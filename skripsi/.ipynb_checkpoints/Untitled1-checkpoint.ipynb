{
 "cells": [
  {
   "cell_type": "code",
   "execution_count": 1,
   "metadata": {},
   "outputs": [],
   "source": [
    "import os, django\n",
    "import pandas as pd\n",
    "from orm.models import Mahasiswa,Jaringan,Rpl,Multimedia,Tesdasar\n",
    "import math\n",
    "import operator"
   ]
  },
  {
   "cell_type": "code",
   "execution_count": 2,
   "metadata": {},
   "outputs": [],
   "source": [
    "mhs = Mahasiswa.objects.all()\n",
    "mul = Multimedia.objects.all()\n",
    "rpl = Rpl.objects.all()\n",
    "jar = Jaringan.objects.all()\n",
    "tes = Tesdasar.objects.all()"
   ]
  },
  {
   "cell_type": "code",
   "execution_count": 4,
   "metadata": {},
   "outputs": [],
   "source": [
    "def Orang():    \n",
    "    a = pd.DataFrame([mhs])\n",
    "    return a"
   ]
  },
  {
   "cell_type": "code",
   "execution_count": 5,
   "metadata": {},
   "outputs": [],
   "source": [
    "if len(mhs)>0:\n",
    "    colsm = ['Interaksi Manusia Dan Komputer','Grafika Komputer',\n",
    "            'Prak.Grafika Komputer']\n",
    "\n",
    "    kelm ={\n",
    "        colsm[0] : [str(a.multimedias.IMK) for a in mhs],        \n",
    "        colsm[1] : [str(a.multimedias.GrafikaKomputer) for a in mhs],\n",
    "        colsm[2] : [str(a.multimedias.PrakGrafikaKomputer) for a in mhs],            \n",
    "    }\n",
    "    dfm = pd.DataFrame(data=kelm)\n",
    "else:\n",
    "    dfm = []\n",
    "    \n",
    "if len(mhs)>0:\n",
    "    colsj = ['Pengantar Sistem Digital','Organisasi Dan Arsitektur Komputer','Sistem Operasi',\n",
    "            'Prak.Sistem Operasi','Komunikasi Data Dan Pengantar Jaringan','Jaringan Komputer',\n",
    "            'Prak.Jaringan Komputer'] \n",
    "\n",
    "    kelj ={\n",
    "        colsj[0] : [str(a.jaringans.Psd) for a in mhs],\n",
    "        colsj[1] : [str(a.jaringans.Orkom) for a in mhs],\n",
    "        colsj[2] : [str(a.jaringans.SistemOperasi) for a in mhs],\n",
    "        colsj[3] : [str(a.jaringans.PrakSistemOperasi) for a in mhs],\n",
    "        colsj[4] : [str(a.jaringans.Komdat) for a in mhs],\n",
    "        colsj[5] : [str(a.jaringans.JaringanKomputer) for a in mhs],\n",
    "        colsj[6] : [str(a.jaringans.PrakJaringanKomputer) for a in mhs],\n",
    "\n",
    "    }\n",
    "    dfj = pd.DataFrame(data=kelj)        \n",
    "else:\n",
    "    dfj = []    \n",
    "        \n",
    "if len(mhs)>0:\n",
    "    colsr = ['Algoritma Dan Pemrograman','Prak.Algoritma Dan Pemrograman','Pengantar Teknologi Informasi',\n",
    "            'Struktur Data','Sistem Basis Data','Prak.Sistem Basis Data','Pemrograman I','Prak.Pemrograman I',\n",
    "            'Sistem Informasi','Pemrograman II','Prak.Pemrograman II','Analisa Dan Desain Perangkat Lunak','Artificial Intelligent']\n",
    "\n",
    "    kelr ={            \n",
    "        colsr[0] : [str(a.rpls.AlgoritmaDanPemrograman) for a in mhs],\n",
    "        colsr[1] : [str(a.rpls.PrakAlgoritmaDanPemrograman) for a in mhs],\n",
    "        colsr[2] : [str(a.rpls.PTI) for a in mhs],\n",
    "        colsr[3] : [str(a.rpls.StrukturData) for a in mhs],\n",
    "        colsr[4] : [str(a.rpls.SistemBasisData) for a in mhs],\n",
    "        colsr[5] : [str(a.rpls.PrakSistemBasisData) for a in mhs],\n",
    "        colsr[6] : [str(a.rpls.Pemrograman1) for a in mhs],\n",
    "        colsr[7] : [str(a.rpls.PrakPemrograman1) for a in mhs],\n",
    "        colsr[8] : [str(a.rpls.SistemInformasi) for a in mhs],\n",
    "        colsr[9] : [str(a.rpls.Pemrograman2) for a in mhs],\n",
    "        colsr[10] : [str(a.rpls.PrakPemrograman2) for a in mhs],\n",
    "        colsr[11] : [str(a.rpls.Adpl) for a in mhs],\n",
    "        colsr[12] : [str(a.rpls.ArtificialIntelligent) for a in mhs],\n",
    "    }        \n",
    "    dfr = pd.DataFrame(data=kelr)    \n",
    "else:\n",
    "    dfr = []"
   ]
  },
  {
   "cell_type": "code",
   "execution_count": 7,
   "metadata": {},
   "outputs": [],
   "source": [
    "def ListTest(mhs):\n",
    "    if len(mhs)>0:\n",
    "        cols = ['Multimedia','Jaringan','Rpl']\n",
    "        \n",
    "        kel ={\n",
    "            cols[0] : [str(a.tesdasars.NilaiMultimedia) for a in mhs],\n",
    "            cols[1] : [str(a.tesdasars.NilaiJaringan) for a in mhs],\n",
    "            cols[2] : [str(a.tesdasars.NilaiRPL) for a in mhs],\n",
    "        }\n",
    "        df = pd.DataFrame(data=kel)\n",
    "        return df\n",
    "    else:\n",
    "        a = pd.DataFrame(columns=['Multimedia','Jaringan','Rpl'])\n",
    "        return a\n",
    "    \n",
    "def Mhsis(mhs):\n",
    "    if len(mhs)>0:\n",
    "        cols = ['nim','nama','jenis kelamin']\n",
    "        \n",
    "        kel ={\n",
    "            cols[0] : [str(a.nim) for a in mhs],\n",
    "            cols[1] : [str(a.nama) for a in mhs],\n",
    "            cols[2] : [str(a.jenis_kelamin) for a in mhs],\n",
    "        }\n",
    "        df = pd.DataFrame(data=kel)\n",
    "        return df\n",
    "    else:\n",
    "        return[]"
   ]
  },
  {
   "cell_type": "code",
   "execution_count": 8,
   "metadata": {},
   "outputs": [],
   "source": [
    "mu = pd.DataFrame(data = ListTest(mhs).Multimedia)\n",
    "ja = pd.DataFrame(data = ListTest(mhs).Jaringan)\n",
    "rp = pd.DataFrame(data = ListTest(mhs).Rpl)"
   ]
  },
  {
   "cell_type": "code",
   "execution_count": 9,
   "metadata": {},
   "outputs": [],
   "source": [
    "def Hitung(a,b,c,d):\n",
    "    tamp = []\n",
    "    for x in range(len(mhs)):\n",
    "        tampung = list()\n",
    "        for i in a:\n",
    "            if i is 'A':        \n",
    "                tampung.append(4)\n",
    "            elif i == 'B+':        \n",
    "                tampung.append(3.5)\n",
    "            elif i is 'B':        \n",
    "                tampung.append(3)\n",
    "            elif i == 'C+':        \n",
    "                tampung.append(2.5)\n",
    "            elif i is 'C':        \n",
    "                tampung.append(2)\n",
    "            elif i is 'D':\n",
    "                tampung.append(1.5)\n",
    "            elif i is 'E':\n",
    "                tampung.append(1)\n",
    "            else:\n",
    "                tampung.append(0)\n",
    "            rata2 = sum(tampung)/d\n",
    "            tmp = [rata2, b]\n",
    "            dframe = pd.DataFrame(data=tmp,columns=[c])\n",
    "    tamp.append(dframe)\n",
    "    return tamp"
   ]
  },
  {
   "cell_type": "code",
   "execution_count": 10,
   "metadata": {},
   "outputs": [],
   "source": [
    "Mhultimedia = []\n",
    "for i in range(len(mhs)):\n",
    "    x = Hitung(dfm.loc[i],mu.loc[i][0],'Multimedia',6)\n",
    "    Mhultimedia.append(x)\n",
    "    \n",
    "Jharingan = []\n",
    "for i in range(len(mhs)):\n",
    "    x = Hitung(dfj.loc[i],ja.loc[i][0],'Jaringan',16)\n",
    "    Jharingan.append(x)\n",
    "\n",
    "Rhpl = []\n",
    "for i in range(len(mhs)):\n",
    "    x = Hitung(dfr.loc[i],rp.loc[i][0],'Rpl',27)\n",
    "    Rhpl.append(x)\n",
    "\n",
    "tampung1 = []\n",
    "for i in range(len(mhs)):\n",
    "    gabungan = pd.concat([Mhultimedia[i][0],Jharingan[i][0],Rhpl[i][0]],axis=1)\n",
    "    tampung1.append(gabungan)        "
   ]
  },
  {
   "cell_type": "code",
   "execution_count": 11,
   "metadata": {},
   "outputs": [
    {
     "data": {
      "text/plain": [
       "[[  Multimedia\n",
       "  0          0\n",
       "  1          5], [  Multimedia\n",
       "  0   0.666667\n",
       "  1          2]]"
      ]
     },
     "execution_count": 11,
     "metadata": {},
     "output_type": "execute_result"
    }
   ],
   "source": [
    "Mhultimedia"
   ]
  },
  {
   "cell_type": "code",
   "execution_count": null,
   "metadata": {},
   "outputs": [],
   "source": []
  }
 ],
 "metadata": {
  "kernelspec": {
   "display_name": "Django Shell-Plus",
   "language": "python",
   "name": "django_extensions"
  },
  "language_info": {
   "codemirror_mode": {
    "name": "ipython",
    "version": 3
   },
   "file_extension": ".py",
   "mimetype": "text/x-python",
   "name": "python",
   "nbconvert_exporter": "python",
   "pygments_lexer": "ipython3",
   "version": "3.6.6"
  }
 },
 "nbformat": 4,
 "nbformat_minor": 2
}
