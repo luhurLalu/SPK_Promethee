{
 "cells": [
  {
   "cell_type": "code",
   "execution_count": 147,
   "metadata": {},
   "outputs": [],
   "source": [
    "alter = ['MULTIMEDIA','JARINGAN','RPL']\n",
    "gb = ['MULTIMEDIA/JARINGAN','MULTIMEDIA/RPL','JARINGAN/RPL','MULTIMEDIA/JARINGAN/RPL']\n",
    "rek = [0,0,0]"
   ]
  },
  {
   "cell_type": "code",
   "execution_count": 150,
   "metadata": {},
   "outputs": [
    {
     "data": {
      "text/plain": [
       "['MULTIMEDIA/JARINGAN/RPL']"
      ]
     },
     "execution_count": 150,
     "metadata": {},
     "output_type": "execute_result"
    }
   ],
   "source": [
    "rekom = []\n",
    "mx= []\n",
    "for x, m in enumerate(rek):\n",
    "    if m == max(rek):\n",
    "        mx.append(1)\n",
    "    else:\n",
    "        continue\n",
    "if sum(mx) == 3:\n",
    "    rekom.append(gb[3])\n",
    "rekom"
   ]
  },
  {
   "cell_type": "code",
   "execution_count": 124,
   "metadata": {},
   "outputs": [],
   "source": [
    "rek1 = []\n",
    "for x, y in enumerate(rek):\n",
    "    if y == max(rek):\n",
    "        rek1.append(1)\n",
    "    else:\n",
    "        rek1.append(0)\n",
    "if sum(rek1) == 3:\n",
    "    rek1 = [0,0,0]\n",
    "else:\n",
    "    rek1 == rek1\n",
    "    \n",
    "if sum(rek1) == 0:\n",
    "    has = []\n",
    "    has.append(gb[3])\n",
    "elif sum(rek1) > 0:\n",
    "    has = []    \n",
    "    if rek1[0] == rek1[1]:\n",
    "        has.append(gb[0])\n",
    "    elif rek1[0] == rek1[2]:\n",
    "        has.append(gb[1])\n",
    "    elif rek1[1] == rek1[2]:\n",
    "        has.append(gb[2])\n",
    "    else:\n",
    "        has.append('Null')"
   ]
  },
  {
   "cell_type": "code",
   "execution_count": 127,
   "metadata": {},
   "outputs": [
    {
     "data": {
      "text/plain": [
       "['MULTIMEDIA/JARINGAN']"
      ]
     },
     "execution_count": 127,
     "metadata": {},
     "output_type": "execute_result"
    }
   ],
   "source": [
    "has"
   ]
  },
  {
   "cell_type": "code",
   "execution_count": null,
   "metadata": {},
   "outputs": [],
   "source": []
  }
 ],
 "metadata": {
  "kernelspec": {
   "display_name": "Python 3",
   "language": "python",
   "name": "python3"
  },
  "language_info": {
   "codemirror_mode": {
    "name": "ipython",
    "version": 3
   },
   "file_extension": ".py",
   "mimetype": "text/x-python",
   "name": "python",
   "nbconvert_exporter": "python",
   "pygments_lexer": "ipython3",
   "version": "3.6.6"
  }
 },
 "nbformat": 4,
 "nbformat_minor": 2
}
