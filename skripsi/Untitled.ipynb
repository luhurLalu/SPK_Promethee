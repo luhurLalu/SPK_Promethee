{
 "cells": [
  {
   "cell_type": "code",
   "execution_count": 204,
   "metadata": {},
   "outputs": [],
   "source": [
    "import os,django\n",
    "import pandas as pd\n",
    "from orm.models import Mahasiswa,Jaringan,Rpl,Multimedia,Tesdasar\n",
    "import math\n",
    "import operator"
   ]
  },
  {
   "cell_type": "code",
   "execution_count": 205,
   "metadata": {},
   "outputs": [],
   "source": [
    "mhs = Mahasiswa.objects.all()\n",
    "mul = Multimedia.objects.all()\n",
    "rpl = Rpl.objects.all()\n",
    "jar = Jaringan.objects.all()\n",
    "tes = Tesdasar.objects.all()"
   ]
  },
  {
   "cell_type": "code",
   "execution_count": 206,
   "metadata": {},
   "outputs": [],
   "source": [
    "def Orang():\n",
    "    # a = pd.DataFrame([enumerate(mhs)])\n",
    "    a = pd.DataFrame([mhs])\n",
    "    return a"
   ]
  },
  {
   "cell_type": "code",
   "execution_count": 207,
   "metadata": {},
   "outputs": [],
   "source": [
    "if len(mhs)>0:\n",
    "    colsm = ['Interaksi Manusia Dan Komputer','Grafika Komputer',\n",
    "            'Prak.Grafika Komputer']\n",
    "\n",
    "    kelm ={\n",
    "        colsm[0] : [str(a.multimedias.IMK) for a in mhs],        \n",
    "        colsm[1] : [str(a.multimedias.GrafikaKomputer) for a in mhs],\n",
    "        colsm[2] : [str(a.multimedias.PrakGrafikaKomputer) for a in mhs],            \n",
    "    }\n",
    "    dfm = pd.DataFrame(data=kelm)\n",
    "else:\n",
    "    dfm = []\n",
    "    \n",
    "if len(mhs)>0:\n",
    "    colsj = ['Pengantar Sistem Digital','Organisasi Dan Arsitektur Komputer','Sistem Operasi',\n",
    "            'Prak.Sistem Operasi','Komunikasi Data Dan Pengantar Jaringan','Jaringan Komputer',\n",
    "            'Prak.Jaringan Komputer'] \n",
    "\n",
    "    kelj ={\n",
    "        colsj[0] : [str(a.jaringans.Psd) for a in mhs],\n",
    "        colsj[1] : [str(a.jaringans.Orkom) for a in mhs],\n",
    "        colsj[2] : [str(a.jaringans.SistemOperasi) for a in mhs],\n",
    "        colsj[3] : [str(a.jaringans.PrakSistemOperasi) for a in mhs],\n",
    "        colsj[4] : [str(a.jaringans.Komdat) for a in mhs],\n",
    "        colsj[5] : [str(a.jaringans.JaringanKomputer) for a in mhs],\n",
    "        colsj[6] : [str(a.jaringans.PrakJaringanKomputer) for a in mhs],\n",
    "\n",
    "    }\n",
    "    dfj = pd.DataFrame(data=kelj)        \n",
    "else:\n",
    "    dfj = []    \n",
    "        \n",
    "if len(mhs)>0:\n",
    "    colsr = ['Algoritma Dan Pemrograman','Prak.Algoritma Dan Pemrograman','Pengantar Teknologi Informasi',\n",
    "            'Struktur Data','Sistem Basis Data','Prak.Sistem Basis Data','Pemrograman I','Prak.Pemrograman I',\n",
    "            'Sistem Informasi','Pemrograman II','Prak.Pemrograman II','Analisa Dan Desain Perangkat Lunak','Artificial Intelligent']\n",
    "\n",
    "    kelr ={            \n",
    "        colsr[0] : [str(a.rpls.AlgoritmaDanPemrograman) for a in mhs],\n",
    "        colsr[1] : [str(a.rpls.PrakAlgoritmaDanPemrograman) for a in mhs],\n",
    "        colsr[2] : [str(a.rpls.PTI) for a in mhs],\n",
    "        colsr[3] : [str(a.rpls.StrukturData) for a in mhs],\n",
    "        colsr[4] : [str(a.rpls.SistemBasisData) for a in mhs],\n",
    "        colsr[5] : [str(a.rpls.PrakSistemBasisData) for a in mhs],\n",
    "        colsr[6] : [str(a.rpls.Pemrograman1) for a in mhs],\n",
    "        colsr[7] : [str(a.rpls.PrakPemrograman1) for a in mhs],\n",
    "        colsr[8] : [str(a.rpls.SistemInformasi) for a in mhs],\n",
    "        colsr[9] : [str(a.rpls.Pemrograman2) for a in mhs],\n",
    "        colsr[10] : [str(a.rpls.PrakPemrograman2) for a in mhs],\n",
    "        colsr[11] : [str(a.rpls.Adpl) for a in mhs],\n",
    "        colsr[12] : [str(a.rpls.ArtificialIntelligent) for a in mhs],\n",
    "    }        \n",
    "    dfr = pd.DataFrame(data=kelr)    \n",
    "else:\n",
    "    dfr = []\n",
    "    \n",
    "def ListTest(mhs):\n",
    "    if len(mhs)>0:\n",
    "        cols = ['Multimedia','Jaringan','Rpl']\n",
    "        \n",
    "        kel ={\n",
    "            cols[0] : [str(a.tesdasars.NilaiMultimedia) for a in mhs],\n",
    "            cols[1] : [str(a.tesdasars.NilaiJaringan) for a in mhs],\n",
    "            cols[2] : [str(a.tesdasars.NilaiRPL) for a in mhs],\n",
    "        }\n",
    "        df = pd.DataFrame(data=kel)\n",
    "        return df\n",
    "    else:\n",
    "        a = pd.DataFrame(columns=['Multimedia','Jaringan','Rpl'])\n",
    "        return a"
   ]
  },
  {
   "cell_type": "code",
   "execution_count": 208,
   "metadata": {},
   "outputs": [],
   "source": [
    "def Mhsis(mhs):\n",
    "    if len(mhs)>0:\n",
    "        cols = ['nim','nama','jenis kelamin']\n",
    "        \n",
    "        kel ={\n",
    "            cols[0] : [str(a.nim) for a in mhs],\n",
    "            cols[1] : [str(a.nama) for a in mhs],\n",
    "            cols[2] : [str(a.jenis_kelamin) for a in mhs],\n",
    "        }\n",
    "        df = pd.DataFrame(data=kel)\n",
    "        return df\n",
    "    else:\n",
    "        return[]"
   ]
  },
  {
   "cell_type": "code",
   "execution_count": 209,
   "metadata": {},
   "outputs": [],
   "source": [
    "mu = pd.DataFrame(data = ListTest(mhs).Multimedia)\n",
    "ja = pd.DataFrame(data = ListTest(mhs).Jaringan)\n",
    "rp = pd.DataFrame(data = ListTest(mhs).Rpl)"
   ]
  },
  {
   "cell_type": "code",
   "execution_count": 210,
   "metadata": {},
   "outputs": [],
   "source": [
    "def Hitung(a,b,c,d):\n",
    "    tamp = []\n",
    "    for x in range(len(mhs)):\n",
    "        tampung = list()\n",
    "        for i in a:\n",
    "            if i is 'A':        \n",
    "                tampung.append(6)\n",
    "            elif i == 'B+':        \n",
    "                tampung.append(5)\n",
    "            elif i is 'B':        \n",
    "                tampung.append(4)\n",
    "            elif i == 'C+':        \n",
    "                tampung.append(3)\n",
    "            elif i is 'C':        \n",
    "                tampung.append(2)\n",
    "            elif i is 'D':\n",
    "                tampung.append(1)\n",
    "            else:\n",
    "                tampung.append(0)\n",
    "            rata2 = sum(tampung)/d\n",
    "            tmp = [rata2, b]\n",
    "            dframe = pd.DataFrame(data=tmp,columns=[c])\n",
    "    tamp.append(dframe)\n",
    "    return tamp"
   ]
  },
  {
   "cell_type": "code",
   "execution_count": 211,
   "metadata": {},
   "outputs": [],
   "source": [
    "Mhultimedia = []\n",
    "for i in range(len(mhs)):\n",
    "    x = Hitung(dfm.loc[i],mu.loc[i][0],'Multimedia',6)\n",
    "    Mhultimedia.append(x)\n",
    "    \n",
    "Jharingan = []\n",
    "for i in range(len(mhs)):\n",
    "    x = Hitung(dfj.loc[i],ja.loc[i][0],'Jaringan',16)\n",
    "    Jharingan.append(x)\n",
    "\n",
    "Rhpl = []\n",
    "for i in range(len(mhs)):\n",
    "    x = Hitung(dfr.loc[i],rp.loc[i][0],'Rpl',27)\n",
    "    Rhpl.append(x)\n",
    "\n",
    "tampung1 = []\n",
    "for i in range(len(mhs)):\n",
    "    gabungan = pd.concat([Mhultimedia[i][0],Jharingan[i][0],Rhpl[i][0]],axis=1)\n",
    "    tampung1.append(gabungan)    "
   ]
  },
  {
   "cell_type": "code",
   "execution_count": 212,
   "metadata": {},
   "outputs": [],
   "source": [
    "def Total():\n",
    "    t = []\n",
    "    for i in range(len(mhs)):\n",
    "        gabungan = pd.concat([Mhultimedia[i][0],Jharingan[i][0],Rhpl[i][0]],axis=1)\n",
    "        t.append(gabungan)\n",
    "    return t"
   ]
  },
  {
   "cell_type": "code",
   "execution_count": 213,
   "metadata": {},
   "outputs": [],
   "source": [
    "if len(mhs)>0:\n",
    "    p1 = tampung1[0].shape[1]\n",
    "    p2 = tampung1[0].shape[1]\n",
    "    p3 = len(tampung1[0].iloc[:,0])\n",
    "else:\n",
    "    p1 = 3\n",
    "    p2 = 3\n",
    "    p3 = 2\n",
    "    \n",
    "arr0 = []\n",
    "hasil0 = []\n",
    "for y in range(len(mhs)):\n",
    "    arr = []\n",
    "    hasil = []\n",
    "    for i in range(p1):\n",
    "        arr1 = []\n",
    "        hasil1 = []\n",
    "        for j in range(p2):\n",
    "            arr2 = []\n",
    "            hasil2= []\n",
    "            for k in range(p3):\n",
    "                z = float(tampung1[y].iloc[:,i][k])-float(tampung1[y].iloc[:,j][k])\n",
    "                m = 0            \n",
    "                if (z <= 0):\n",
    "                    m = 0\n",
    "                else:\n",
    "                    m = 1\n",
    "                hasil2.append(z)\n",
    "                arr2.append(m)\n",
    "            arr1.append(arr2)\n",
    "            hasil1.append(hasil2)\n",
    "        arr.append(arr1)\n",
    "        hasil.append(hasil1)\n",
    "    arr0.append(arr)\n",
    "    hasil0.append(hasil)"
   ]
  },
  {
   "cell_type": "code",
   "execution_count": 214,
   "metadata": {},
   "outputs": [],
   "source": [
    "hasil1 = pd.DataFrame(arr0)\n",
    "hasil2 = pd.DataFrame(hasil0)"
   ]
  },
  {
   "cell_type": "code",
   "execution_count": 215,
   "metadata": {},
   "outputs": [],
   "source": [
    "def Tindex():\n",
    "    akhir = []\n",
    "    for v in range(len(mhs)):\n",
    "        akhir1 = []\n",
    "        for i in range(len(tampung1[v].iloc[0])):\n",
    "            akhir2 = []\n",
    "            for j in range(len(hasil1[i].loc[v])):\n",
    "                bla = sum(hasil1.loc[v].loc[i][j])*(1/len(hasil1.loc[v].iloc[i][j]))\n",
    "                akhir2.append(bla)\n",
    "            akhir1.append(akhir2)\n",
    "        akhir.append(akhir1)\n",
    "    return akhir"
   ]
  },
  {
   "cell_type": "code",
   "execution_count": 216,
   "metadata": {},
   "outputs": [],
   "source": [
    "promethee1 = []\n",
    "for m in range(len(mhs)):\n",
    "    tmp1 = []\n",
    "    for i in range(len(Tindex()[m])):\n",
    "        tmp2 = []\n",
    "        for j in range(len(Tindex()[m])):\n",
    "            tmp2.append(Tindex()[m][i][j])\n",
    "        tmp1.append(tmp2)\n",
    "    prometh = pd.DataFrame(data=tmp1, columns = ['A','B','C'], index = ['A', 'B', 'C'])\n",
    "    promethee1.append(prometh)\n",
    "\n",
    "Lf = []\n",
    "for k in range(len(promethee1)):\n",
    "    lf1 = []\n",
    "    for i in range(len(promethee1[k])):\n",
    "        jwb = (1/(len(promethee1[k]) - 1)) * sum(promethee1[k].iloc[i])\n",
    "        lf1.append(jwb)        \n",
    "    leaving = pd.DataFrame(data=lf1,columns=['Leaaving Flow'])\n",
    "    Lf.append(leaving)\n",
    "\n",
    "Ef = []\n",
    "for k in range(len(promethee1)):\n",
    "    ef1 = []\n",
    "    for i in range(len(promethee1[k])):\n",
    "        jwb = (1/(len(promethee1[k])-1)) * sum(promethee1[k].iloc[:,i])\n",
    "        ef1.append(jwb)        \n",
    "    entring = pd.DataFrame(data=ef1,columns=['Entring Flow'])\n",
    "    Ef.append(entring)\n",
    "\n",
    "Nf = []\n",
    "for k in range(len(promethee1)):\n",
    "    nf1 = []\n",
    "    for i in range(len(promethee1[k])):\n",
    "        jwb = Lf[k].iloc[i][0] - Ef[k].iloc[i][0]\n",
    "        nf1.append(jwb)        \n",
    "    net = pd.DataFrame(data=nf1,columns=['Net Flow'])\n",
    "    Nf.append(net)"
   ]
  },
  {
   "cell_type": "code",
   "execution_count": 225,
   "metadata": {},
   "outputs": [],
   "source": [
    "def Nilai(mhs):\n",
    "    if len(mhs)>0:\n",
    "        nf = []\n",
    "        gh = []\n",
    "        rek = []\n",
    "        alternative = ['MULTIMEDIA','JARINGAN','RPL']\n",
    "        for k in range(len(promethee1)):\n",
    "            nf1 = []\n",
    "            for i in range(len(promethee1[k])):\n",
    "                jwb = Lf[k].iloc[i][0] - Ef[k].iloc[i][0]\n",
    "                nf1.append(jwb)     \n",
    "            rek1 = []\n",
    "            for x, y in enumerate(nf1):\n",
    "                if y == max(nf1):\n",
    "                    rek1.append(alternative[x])                    \n",
    "                else:\n",
    "                    continue\n",
    "            rek.append('/'.join(rek1))\n",
    "            gh.append(max(nf1))\n",
    "            net = pd.DataFrame(data=gh,columns=['Net Flow'])\n",
    "            rekom = pd.DataFrame(data=rek,columns=['Rekomendasi'])\n",
    "            a=Mhsis(mhs).index.get_values()\n",
    "            hasil=pd.concat([Mhsis(mhs),rekom],axis=1)\n",
    "        return hasil\n",
    "    else:\n",
    "        a = pd.DataFrame(columns=['Multimedia','Jaringan','Rpl'])\n",
    "        return a"
   ]
  },
  {
   "cell_type": "code",
   "execution_count": 226,
   "metadata": {},
   "outputs": [
    {
     "data": {
      "text/html": [
       "<div>\n",
       "<style scoped>\n",
       "    .dataframe tbody tr th:only-of-type {\n",
       "        vertical-align: middle;\n",
       "    }\n",
       "\n",
       "    .dataframe tbody tr th {\n",
       "        vertical-align: top;\n",
       "    }\n",
       "\n",
       "    .dataframe thead th {\n",
       "        text-align: right;\n",
       "    }\n",
       "</style>\n",
       "<table border=\"1\" class=\"dataframe\">\n",
       "  <thead>\n",
       "    <tr style=\"text-align: right;\">\n",
       "      <th></th>\n",
       "      <th>nim</th>\n",
       "      <th>nama</th>\n",
       "      <th>jenis kelamin</th>\n",
       "      <th>Rekomendasi</th>\n",
       "    </tr>\n",
       "  </thead>\n",
       "  <tbody>\n",
       "    <tr>\n",
       "      <th>0</th>\n",
       "      <td>1410530196</td>\n",
       "      <td>lalu hammi luhur</td>\n",
       "      <td>LAKI-LAKI</td>\n",
       "      <td>MULTIMEDIA/JARINGAN/RPL</td>\n",
       "    </tr>\n",
       "  </tbody>\n",
       "</table>\n",
       "</div>"
      ],
      "text/plain": [
       "          nim              nama jenis kelamin              Rekomendasi\n",
       "0  1410530196  lalu hammi luhur     LAKI-LAKI  MULTIMEDIA/JARINGAN/RPL"
      ]
     },
     "execution_count": 226,
     "metadata": {},
     "output_type": "execute_result"
    }
   ],
   "source": [
    "alt = pd.DataFrame(['Multimedia','Jaringan','Rpl'],columns=['Rekomendasi'])\n",
    "Nilai(mhs)"
   ]
  },
  {
   "cell_type": "code",
   "execution_count": 16,
   "metadata": {},
   "outputs": [],
   "source": [
    "def Gabung(mhs):\n",
    "    Gabungs = []\n",
    "    for x in range(len(mhs)):\n",
    "        z = pd.concat([Lf[x],Ef[x],Nf[x],alt],axis=1)\n",
    "        Gabungs.append(z)\n",
    "    return Gabungs"
   ]
  },
  {
   "cell_type": "code",
   "execution_count": 17,
   "metadata": {},
   "outputs": [],
   "source": [
    "for k,v in enumerate(Gabung(mhs)):\n",
    "    Gabung(mhs)[k].index.name=str(mhs[k])\n",
    "for k,v in enumerate(tampung1):\n",
    "    tampung1[k].index.name=str(mhs[k])"
   ]
  },
  {
   "cell_type": "code",
   "execution_count": 18,
   "metadata": {},
   "outputs": [],
   "source": [
    "def Perangkingan():\n",
    "    tt = Gabung(mhs)\n",
    "    if len(mhs)>0:\n",
    "        rangking = []\n",
    "        for x in range(len(Gabung(mhs))):\n",
    "            rank = tt[x].sort_values(by='Net Flow', ascending=False)\n",
    "            rangking.append(rank)\n",
    "            \n",
    "        return rangking\n",
    "    else:\n",
    "        a = pd.DataFrame(columns=['Multimedia','Jaringan','Rpl'])\n",
    "        return a"
   ]
  },
  {
   "cell_type": "code",
   "execution_count": 19,
   "metadata": {},
   "outputs": [
    {
     "data": {
      "text/plain": [
       "[                  Leaaving Flow  Entring Flow  Net Flow Rekomendasi\n",
       " lalu hammi luhur                                                   \n",
       " 0                           0.0           0.0       0.0  Multimedia\n",
       " 1                           0.0           0.0       0.0    Jaringan\n",
       " 2                           0.0           0.0       0.0         Rpl]"
      ]
     },
     "execution_count": 19,
     "metadata": {},
     "output_type": "execute_result"
    }
   ],
   "source": [
    "Perangkingan()"
   ]
  },
  {
   "cell_type": "code",
   "execution_count": 20,
   "metadata": {},
   "outputs": [],
   "source": [
    "def Penggabungan():\n",
    "    gab = []\n",
    "    for x in range(len(mhs)):\n",
    "        z = pd.concat([Lf[x],Ef[x],nf[x],alt],axis=1)\n",
    "        gab.append(z)\n",
    "\n",
    "    return gab"
   ]
  },
  {
   "cell_type": "code",
   "execution_count": 21,
   "metadata": {},
   "outputs": [],
   "source": [
    "multi = []\n",
    "for k in range(len(promethee1)):\n",
    "    multi.append(tampung1[k].loc[0][0])\n",
    "Dmultimedia = pd.DataFrame(data=multi,columns=['Multimedia'])\n",
    "\n",
    "jar = []\n",
    "for k in range(len(promethee1)):\n",
    "    jar.append(tampung1[k].loc[0][1])\n",
    "Djaringan = pd.DataFrame(data=jar,columns=['Jaringan'])    \n",
    "\n",
    "rpl = []\n",
    "for k in range(len(promethee1)):\n",
    "    rpl.append(tampung1[k].loc[0][2])\n",
    "Drpl = pd.DataFrame(data=rpl,columns=['RPL'])    "
   ]
  },
  {
   "cell_type": "code",
   "execution_count": 22,
   "metadata": {},
   "outputs": [],
   "source": [
    "def Msiswa(mhs):\n",
    "    if len(mhs)>0:\n",
    "        cols = ['nim','nama']\n",
    "        \n",
    "        kel ={\n",
    "            cols[0] : [str(a.nim) for a in mhs],\n",
    "            cols[1] : [str(a.nama) for a in mhs],\n",
    "        }\n",
    "        df = pd.DataFrame(data=kel)\n",
    "        return df\n",
    "    else:\n",
    "        return[]"
   ]
  },
  {
   "cell_type": "code",
   "execution_count": 23,
   "metadata": {},
   "outputs": [],
   "source": [
    "def Akademik(mhs):\n",
    "    if len(mhs)>0:\n",
    "        ms = Msiswa(mhs)\n",
    "        a = pd.concat([ms,Dmultimedia,Djaringan,Drpl],axis=1)\n",
    "        return a    \n",
    "    else:\n",
    "        a = pd.DataFrame(columns=['Multimedia','Jaringan','Rpl'])\n",
    "        return a\n"
   ]
  },
  {
   "cell_type": "code",
   "execution_count": 37,
   "metadata": {},
   "outputs": [],
   "source": [
    "multi = []\n",
    "for k in range(len(promethee1)):\n",
    "    multi.append(tampung1[k].loc[1][0])\n",
    "Tmultimedia = pd.DataFrame(data=multi,columns=['Multimedia'])\n",
    "\n",
    "jar = []\n",
    "for k in range(len(promethee1)):\n",
    "    jar.append(tampung1[k].loc[1][1])\n",
    "Tjaringan = pd.DataFrame(data=jar,columns=['Jaringan'])    \n",
    "\n",
    "rpl = []\n",
    "for k in range(len(promethee1)):\n",
    "    rpl.append(tampung1[k].loc[1][2])\n",
    "Trpl = pd.DataFrame(data=rpl,columns=['RPL'])  "
   ]
  },
  {
   "cell_type": "code",
   "execution_count": 38,
   "metadata": {},
   "outputs": [],
   "source": [
    "def TesDasar():        \n",
    "    if len(mhs)>0:\n",
    "        a = pd.concat([Msiswa(mhs),Tmultimedia,Tjaringan,Trpl],axis=1)\n",
    "        return a\n",
    "    else:\n",
    "        a = pd.DataFrame(columns=['Multimedia','Jaringan','Rpl'])\n",
    "        return a"
   ]
  },
  {
   "cell_type": "code",
   "execution_count": 39,
   "metadata": {},
   "outputs": [
    {
     "data": {
      "text/html": [
       "<div>\n",
       "<style scoped>\n",
       "    .dataframe tbody tr th:only-of-type {\n",
       "        vertical-align: middle;\n",
       "    }\n",
       "\n",
       "    .dataframe tbody tr th {\n",
       "        vertical-align: top;\n",
       "    }\n",
       "\n",
       "    .dataframe thead th {\n",
       "        text-align: right;\n",
       "    }\n",
       "</style>\n",
       "<table border=\"1\" class=\"dataframe\">\n",
       "  <thead>\n",
       "    <tr style=\"text-align: right;\">\n",
       "      <th></th>\n",
       "      <th>nim</th>\n",
       "      <th>nama</th>\n",
       "      <th>jenis kelamin</th>\n",
       "      <th>Rekomendasi</th>\n",
       "    </tr>\n",
       "  </thead>\n",
       "  <tbody>\n",
       "    <tr>\n",
       "      <th>0</th>\n",
       "      <td>1410530196</td>\n",
       "      <td>lalu hammi luhur</td>\n",
       "      <td>LAKI-LAKI</td>\n",
       "      <td>MULTIMEDIA</td>\n",
       "    </tr>\n",
       "    <tr>\n",
       "      <th>1</th>\n",
       "      <td>NaN</td>\n",
       "      <td>NaN</td>\n",
       "      <td>NaN</td>\n",
       "      <td>JARINGAN</td>\n",
       "    </tr>\n",
       "    <tr>\n",
       "      <th>2</th>\n",
       "      <td>NaN</td>\n",
       "      <td>NaN</td>\n",
       "      <td>NaN</td>\n",
       "      <td>RPL</td>\n",
       "    </tr>\n",
       "  </tbody>\n",
       "</table>\n",
       "</div>"
      ],
      "text/plain": [
       "          nim              nama jenis kelamin Rekomendasi\n",
       "0  1410530196  lalu hammi luhur     LAKI-LAKI  MULTIMEDIA\n",
       "1         NaN               NaN           NaN    JARINGAN\n",
       "2         NaN               NaN           NaN         RPL"
      ]
     },
     "execution_count": 39,
     "metadata": {},
     "output_type": "execute_result"
    }
   ],
   "source": [
    "Nilai(mhs)"
   ]
  },
  {
   "cell_type": "code",
   "execution_count": 30,
   "metadata": {},
   "outputs": [
    {
     "data": {
      "text/plain": [
       "[                  Leaaving Flow  Entring Flow  Net Flow Rekomendasi\n",
       " lalu hammi luhur                                                   \n",
       " 0                           0.0           0.0       0.0  Multimedia\n",
       " 1                           0.0           0.0       0.0    Jaringan\n",
       " 2                           0.0           0.0       0.0         Rpl]"
      ]
     },
     "execution_count": 30,
     "metadata": {},
     "output_type": "execute_result"
    }
   ],
   "source": [
    "Perangkingan()"
   ]
  },
  {
   "cell_type": "code",
   "execution_count": null,
   "metadata": {},
   "outputs": [],
   "source": []
  }
 ],
 "metadata": {
  "kernelspec": {
   "display_name": "Django Shell-Plus",
   "language": "python",
   "name": "django_extensions"
  },
  "language_info": {
   "codemirror_mode": {
    "name": "ipython",
    "version": 3
   },
   "file_extension": ".py",
   "mimetype": "text/x-python",
   "name": "python",
   "nbconvert_exporter": "python",
   "pygments_lexer": "ipython3",
   "version": "3.6.6"
  }
 },
 "nbformat": 4,
 "nbformat_minor": 2
}
